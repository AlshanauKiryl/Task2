{
 "cells": [
  {
   "cell_type": "markdown",
   "metadata": {},
   "source": [
    "## Датасет собран из базы данных переписи 1994 года и содержит данные о доходах.\n",
    "### Информация о данных:\n",
    "* age: continuous.\n",
    "* workclass: Private, Self-emp-not-inc, Self-emp-inc, Federal-gov, Local-gov, State-gov, Without-pay, Never-worked.\n",
    "* fnlwgt: continuous.\n",
    "* education: Bachelors, Some-college, 11th, HS-grad, Prof-school, Assoc-acdm, Assoc-voc, 9th, 7th-8th, 12th, * Masters, 1st-4th, 10th, Doctorate, 5th-6th, Preschool.\n",
    "* education-num: continuous.\n",
    "* marital-status: Married-civ-spouse, Divorced, Never-married, Separated, Widowed, Married-spouse-absent, Married-AF-spouse.\n",
    "* occupation: Tech-support, Craft-repair, Other-service, Sales, Exec-managerial, Prof-specialty, Handlers-cleaners, Machine-op-inspct, Adm-clerical, Farming-fishing, Transport-moving, Priv-house-serv, Protective-serv, Armed-Forces.\n",
    "* relationship: Wife, Own-child, Husband, Not-in-family, Other-relative, Unmarried.\n",
    "* race: White, Asian-Pac-Islander, Amer-Indian-Eskimo, Other, Black.\n",
    "* sex: Female, Male.\n",
    "* capital-gain: continuous.\n",
    "* capital-loss: continuous.\n",
    "* hours-per-week: continuous.\n",
    "* native-country: United-States, Cambodia, England, Puerto-Rico, Canada, Germany, Outlying-US(Guam-USVI-etc), India, Japan, Greece, South, China, Cuba, Iran, Honduras, Philippines, Italy, Poland, Jamaica, Vietnam, Mexico, Portugal, Ireland, France, Dominican-Republic, Laos, Ecuador, Taiwan, Haiti, Columbia, Hungary, Guatemala, Nicaragua, Scotland, Thailand, Yugoslavia, El-Salvador, Trinadad&Tobago, Peru, Hong, Holand-Netherlands.\n",
    "* salary: >50K,<=50K\n",
    "\n",
    "## Проведите анализ данных при помощи Pandas выполнив поставленные задачи.\n",
    "#### "
   ]
  },
  {
   "cell_type": "code",
   "metadata": {
    "ExecuteTime": {
     "end_time": "2025-09-01T11:43:15.280190Z",
     "start_time": "2025-09-01T11:43:15.274869Z"
    }
   },
   "source": [
    "import pandas as pd\n",
    "from traitlets import observe"
   ],
   "outputs": [],
   "execution_count": 20
  },
  {
   "cell_type": "code",
   "metadata": {
    "ExecuteTime": {
     "end_time": "2025-09-01T11:43:15.352253Z",
     "start_time": "2025-09-01T11:43:15.291733Z"
    }
   },
   "source": [
    "# загружаем датасет\n",
    "data = pd.read_csv(\"./data/adult.data.csv\")\n",
    "data.head()\n",
    "df = pd.DataFrame(data)"
   ],
   "outputs": [],
   "execution_count": 21
  },
  {
   "cell_type": "markdown",
   "metadata": {},
   "source": [
    "**1. Посчитайте, сколько мужчин и женщин (признак *sex*) представлено в этом датасете**"
   ]
  },
  {
   "cell_type": "code",
   "metadata": {
    "ExecuteTime": {
     "end_time": "2025-09-01T11:43:15.368091Z",
     "start_time": "2025-09-01T11:43:15.360681Z"
    }
   },
   "source": [
    "res = data['sex'].value_counts()\n",
    "print(res)"
   ],
   "outputs": [
    {
     "name": "stdout",
     "output_type": "stream",
     "text": [
      "sex\n",
      "Male      21790\n",
      "Female    10771\n",
      "Name: count, dtype: int64\n"
     ]
    }
   ],
   "execution_count": 22
  },
  {
   "metadata": {},
   "cell_type": "markdown",
   "source": "**2. Каков средний возраст мужчин (признак *age*) по всему датасету?**"
  },
  {
   "metadata": {
    "ExecuteTime": {
     "end_time": "2025-09-01T11:43:15.433344Z",
     "start_time": "2025-09-01T11:43:15.422876Z"
    }
   },
   "cell_type": "code",
   "source": [
    "avg_male_age = df[df['sex'] =='Male']['age'].mean()\n",
    "print(f\"Средний возраст мужчин - {round(avg_male_age,2)}\")"
   ],
   "outputs": [
    {
     "name": "stdout",
     "output_type": "stream",
     "text": [
      "Средний возраст мужчин - 39.43\n"
     ]
    }
   ],
   "execution_count": 23
  },
  {
   "metadata": {},
   "cell_type": "markdown",
   "source": "**3. Какова доля граждан Соединенных Штатов (признак *native-country*)?**"
  },
  {
   "metadata": {
    "ExecuteTime": {
     "end_time": "2025-09-01T11:43:15.463326Z",
     "start_time": "2025-09-01T11:43:15.452884Z"
    }
   },
   "cell_type": "code",
   "source": [
    "amercians = df[df['native-country'] == 'United-States']\n",
    "amercians_amount = amercians.shape[0]\n",
    "total_amount = df.shape[0]\n",
    "partOfAmericans = amercians_amount/total_amount\n",
    "print(f'Доля американцев - {round(partOfAmericans,2)*100}%')"
   ],
   "outputs": [
    {
     "name": "stdout",
     "output_type": "stream",
     "text": [
      "Доля американцев - 90.0%\n"
     ]
    }
   ],
   "execution_count": 24
  },
  {
   "metadata": {},
   "cell_type": "markdown",
   "source": "**4-5. Рассчитайте среднее значение и среднеквадратичное отклонение возраста тех, кто получает более 50K в год (признак *salary*) и тех, кто получает менее 50K в год**"
  },
  {
   "metadata": {
    "ExecuteTime": {
     "end_time": "2025-09-01T11:43:15.503769Z",
     "start_time": "2025-09-01T11:43:15.477333Z"
    }
   },
   "cell_type": "code",
   "source": [
    "avg_rich_age = df[df['salary']=='>50K']['age'].mean()\n",
    "avg_poor_age = df[df['salary']=='<=50K']['age'].mean()\n",
    "avg_sqr_diff_rich = df[df['salary']=='>50K']['age'].std()\n",
    "avg_sqr_diff_poor = df[df['salary']=='<=50K']['age'].std()\n",
    "print(f'Средний возраст людей с доходом >50K - {round(avg_rich_age,2)}')\n",
    "print(f'Сренеквадратичное отклонение возраста людей с доходом >50K - {round(avg_sqr_diff_rich,2)}')\n",
    "print(f'Средний возраст людей с доходом <=50K - {round(avg_poor_age,2)}')\n",
    "print(f'Сренеквадратичное отклонение возраста людей с доходом <=50K - {round(avg_sqr_diff_poor,2)}')"
   ],
   "outputs": [
    {
     "name": "stdout",
     "output_type": "stream",
     "text": [
      "Средний возраст людей с доходом >50K - 44.25\n",
      "Сренеквадратичное отклонение возраста людей с доходом >50K - 10.52\n",
      "Средний возраст людей с доходом <=50K - 36.78\n",
      "Сренеквадратичное отклонение возраста людей с доходом <=50K - 14.02\n"
     ]
    }
   ],
   "execution_count": 25
  },
  {
   "metadata": {},
   "cell_type": "markdown",
   "source": "**6. Правда ли, что люди, которые получают больше 50k, имеют минимум высшее образование? (признак *education – Bachelors, Prof-school, Assoc-acdm, Assoc-voc, Masters* или *Doctorate*)**"
  },
  {
   "cell_type": "code",
   "metadata": {
    "ExecuteTime": {
     "end_time": "2025-09-01T11:43:15.527369Z",
     "start_time": "2025-09-01T11:43:15.518145Z"
    }
   },
   "source": [
    "rich = df[df['salary']=='>50K']\n",
    "educated_rich = rich[~rich['education'].isin(['Bachelors', 'Prof-school', 'Assoc-acdm', 'Assoc-voc', 'Masters', 'Doctorate'])]\n",
    "print(f'{round(educated_rich.shape[0]/rich.shape[0]*100,2)}% людей с доходом >50K имеют высшее образование')\n"
   ],
   "outputs": [
    {
     "name": "stdout",
     "output_type": "stream",
     "text": [
      "42.16% людей с доходом >50K имеют высшее образование\n"
     ]
    }
   ],
   "execution_count": 26
  },
  {
   "cell_type": "markdown",
   "metadata": {},
   "source": [
    "**7. Выведите статистику возраста для каждой расы (признак *race*) и каждого пола. Используйте *groupby* и *describe*. Найдите таким образом максимальный возраст мужчин расы *Asian-Pac-Islander*.**"
   ]
  },
  {
   "cell_type": "code",
   "metadata": {
    "scrolled": true,
    "ExecuteTime": {
     "end_time": "2025-09-01T11:54:01.569415Z",
     "start_time": "2025-09-01T11:54:01.531323Z"
    }
   },
   "source": [
    "age_stats = df.groupby(['race','sex'])['age'].describe()\n",
    "print(age_stats)\n",
    "max_asian_pac_islander_age = df[(df['race'] == 'Asian-Pac-Islander') & (df['sex'] == 'Male')]['age'].max()\n",
    "print(f'Макс возраст {max_asian_pac_islander_age}')\n"
   ],
   "outputs": [
    {
     "name": "stdout",
     "output_type": "stream",
     "text": [
      "                             count       mean        std   min   25%   50%  \\\n",
      "race               sex                                                       \n",
      "Amer-Indian-Eskimo Female    119.0  37.117647  13.114991  17.0  27.0  36.0   \n",
      "                   Male      192.0  37.208333  12.049563  17.0  28.0  35.0   \n",
      "Asian-Pac-Islander Female    346.0  35.089595  12.300845  17.0  25.0  33.0   \n",
      "                   Male      693.0  39.073593  12.883944  18.0  29.0  37.0   \n",
      "Black              Female   1555.0  37.854019  12.637197  17.0  28.0  37.0   \n",
      "                   Male     1569.0  37.682600  12.882612  17.0  27.0  36.0   \n",
      "Other              Female    109.0  31.678899  11.631599  17.0  23.0  29.0   \n",
      "                   Male      162.0  34.654321  11.355531  17.0  26.0  32.0   \n",
      "White              Female   8642.0  36.811618  14.329093  17.0  25.0  35.0   \n",
      "                   Male    19174.0  39.652498  13.436029  17.0  29.0  38.0   \n",
      "\n",
      "                             75%   max  \n",
      "race               sex                  \n",
      "Amer-Indian-Eskimo Female  46.00  80.0  \n",
      "                   Male    45.00  82.0  \n",
      "Asian-Pac-Islander Female  43.75  75.0  \n",
      "                   Male    46.00  90.0  \n",
      "Black              Female  46.00  90.0  \n",
      "                   Male    46.00  90.0  \n",
      "Other              Female  39.00  74.0  \n",
      "                   Male    42.00  77.0  \n",
      "White              Female  46.00  90.0  \n",
      "                   Male    49.00  90.0  \n",
      "Макс возраст 90\n"
     ]
    }
   ],
   "execution_count": 35
  },
  {
   "cell_type": "markdown",
   "metadata": {},
   "source": [
    "**8. Среди кого больше доля зарабатывающих много (>50K): среди женатых или холостых мужчин (признак *marital-status*)? Женатыми считаем тех, у кого *marital-status* начинается с *Married* (Married-civ-spouse, Married-spouse-absent или Married-AF-spouse), остальных считаем холостыми.**"
   ]
  },
  {
   "cell_type": "code",
   "metadata": {
    "ExecuteTime": {
     "end_time": "2025-09-01T11:43:15.605948Z",
     "start_time": "2025-09-01T11:43:15.586939Z"
    }
   },
   "source": [
    "marital_sallary_high = df[(df['sex'] == 'Male')& (df['salary']=='>50K') & (df['marital-status'].isin(['Married-civ-spouse', 'Married-spouse-absent', 'Married-AF-spouse']))]\n",
    "marital_sallary_all = df[(df['sex'] == 'Male') & (df['marital-status'].isin(['Married-civ-spouse', 'Married-spouse-absent', 'Married-AF-spouse']))]\n",
    "print(f'{round(marital_sallary_high.shape[0]/marital_sallary_all.shape[0]*100,2)}% людей с высокой зарплатой женаты')\n"
   ],
   "outputs": [
    {
     "name": "stdout",
     "output_type": "stream",
     "text": [
      "44.05% людей с высокой зарплатой женаты\n"
     ]
    }
   ],
   "execution_count": 28
  },
  {
   "cell_type": "markdown",
   "metadata": {},
   "source": [
    "**9. Какое максимальное число часов человек работает в неделю (признак *hours-per-week*)? Сколько людей работают такое количество часов и каков среди них процент зарабатывающих много?**"
   ]
  },
  {
   "cell_type": "code",
   "metadata": {
    "ExecuteTime": {
     "end_time": "2025-09-01T11:43:15.626974Z",
     "start_time": "2025-09-01T11:43:15.621848Z"
    }
   },
   "source": [
    "max_work_hours = df['hours-per-week'].max()\n",
    "print(f'Максимальное количестов часов в неделю - {max_work_hours}')\n",
    "max_hour_workers = df[df['hours-per-week'] == max_work_hours]\n",
    "print(f'Людей работающих максимальное количестов часов в неделю - {max_hour_workers.shape[0]}')\n",
    "print(f'Из них {max_hour_workers[max_hour_workers['salary']=='>50K'].shape[0]} получают >50K')\n"
   ],
   "outputs": [
    {
     "name": "stdout",
     "output_type": "stream",
     "text": [
      "Максимальное количестов часов в неделю - 99\n",
      "Людей работающих максимальное количестов часов в неделю - 85\n",
      "Из них 25 получают >50K\n"
     ]
    }
   ],
   "execution_count": 29
  },
  {
   "cell_type": "markdown",
   "metadata": {},
   "source": [
    "**10. Посчитайте среднее время работы (*hours-per-week*) зарабатывающих мало и много (*salary*) для каждой страны (*native-country*).**"
   ]
  },
  {
   "cell_type": "code",
   "metadata": {
    "scrolled": true,
    "ExecuteTime": {
     "end_time": "2025-09-01T11:43:15.657343Z",
     "start_time": "2025-09-01T11:43:15.642983Z"
    }
   },
   "source": "print(df.groupby(['native-country','salary']).agg(mean_hour_amount = ('hours-per-week','mean' )).reset_index())\n",
   "outputs": [
    {
     "name": "stdout",
     "output_type": "stream",
     "text": [
      "   native-country salary  mean_hour_amount\n",
      "0               ?  <=50K         40.164760\n",
      "1               ?   >50K         45.547945\n",
      "2        Cambodia  <=50K         41.416667\n",
      "3        Cambodia   >50K         40.000000\n",
      "4          Canada  <=50K         37.914634\n",
      "..            ...    ...               ...\n",
      "77  United-States   >50K         45.505369\n",
      "78        Vietnam  <=50K         37.193548\n",
      "79        Vietnam   >50K         39.200000\n",
      "80     Yugoslavia  <=50K         41.600000\n",
      "81     Yugoslavia   >50K         49.500000\n",
      "\n",
      "[82 rows x 3 columns]\n"
     ]
    }
   ],
   "execution_count": 30
  },
  {
   "cell_type": "markdown",
   "metadata": {},
   "source": [
    "**11.Сгруппируйте людей по возрастным группам *young*, *adult*, *retiree*, где:**\n",
    "* *young* соответствует 16-35 лет\n",
    "* *adult* - 35-70 лет\n",
    "* *retiree* - 70-100 лет\n",
    "\n",
    "**Проставьте название соответсвтуещей группы для каждого человека в новой колонке AgeGroup**"
   ]
  },
  {
   "cell_type": "code",
   "metadata": {
    "scrolled": true,
    "ExecuteTime": {
     "end_time": "2025-09-01T11:43:15.680929Z",
     "start_time": "2025-09-01T11:43:15.672350Z"
    }
   },
   "source": [
    "bins = [16,35,70,100]\n",
    "labels = ['young','adult','retiree']\n",
    "df['age_group']=pd.cut(df['age'],bins = bins,labels = labels,right = False,include_lowest=True)\n",
    "print(df[['age','age_group']].head(10))"
   ],
   "outputs": [
    {
     "name": "stdout",
     "output_type": "stream",
     "text": [
      "   age age_group\n",
      "0   39     adult\n",
      "1   50     adult\n",
      "2   38     adult\n",
      "3   53     adult\n",
      "4   28     young\n",
      "5   37     adult\n",
      "6   49     adult\n",
      "7   52     adult\n",
      "8   31     young\n",
      "9   42     adult\n"
     ]
    }
   ],
   "execution_count": 31
  },
  {
   "cell_type": "markdown",
   "metadata": {},
   "source": [
    "**12-13. Определите количество зарабатывающих >50K в каждой из возрастных групп (колонка AgeGroup), а также выведите название возрастной группы, в которой чаще зарабатывают больше 50К (>50K)**"
   ]
  },
  {
   "metadata": {},
   "cell_type": "markdown",
   "source": ""
  },
  {
   "cell_type": "code",
   "metadata": {
    "ExecuteTime": {
     "end_time": "2025-09-01T12:01:08.882766Z",
     "start_time": "2025-09-01T12:01:08.867610Z"
    }
   },
   "source": [
    "count_by_agegroup = df[df['salary'] == '>50K'].groupby('age_group',observed = True).size().reset_index(name='count')\n",
    "\n",
    "max_count_group = count_by_agegroup.loc[count_by_agegroup['count'].idxmax()]\n",
    "\n",
    "print(f'Количество зарабатывающих >50K по возрастным группам:\\n{count_by_agegroup}')\n",
    "print(f\"\\nВозрастная группа с наибольшим количеством зарабатывающих >50K: {max_count_group['age_group']} (количество: {max_count_group['count']})\")\n",
    "\n",
    "#print((df[df['salary']=='>50K']['age_group'].value_counts()).idxmax())"
   ],
   "outputs": [
    {
     "name": "stdout",
     "output_type": "stream",
     "text": [
      "Количество зарабатывающих >50K по возрастным группам:\n",
      "  age_group  count\n",
      "0     young   1488\n",
      "1     adult   6240\n",
      "2   retiree    113\n",
      "\n",
      "Возрастная группа с наибольшим количеством зарабатывающих >50K: adult (количество: 6240)\n"
     ]
    }
   ],
   "execution_count": 43
  },
  {
   "cell_type": "markdown",
   "metadata": {},
   "source": [
    "**14. Сгруппируйте людей по типу занятости (колонка occupation) и определите количество людей в каждой группе. После чего напишите функциюю фильтрации filter_func, которая будет возвращать только те группы, в которых средний возраст (колонка age) не больше 40 и в которых все работники отрабатывают более 5 часов в неделю (колонка hours-per-week)**"
   ]
  },
  {
   "cell_type": "code",
   "metadata": {
    "ExecuteTime": {
     "end_time": "2025-09-01T11:43:15.737305400Z",
     "start_time": "2025-09-01T09:14:14.004266Z"
    }
   },
   "source": [
    "def filter_func(group):\n",
    "    return group['age'].mean() <= 40 & group['hours-per-week'].min() > 5\n",
    "\n",
    "filtered_groups = df.groupby(['native-country','salary']).filter(filter_func)\n",
    "print(filtered_groups)\n"
   ],
   "outputs": [
    {
     "name": "stdout",
     "output_type": "stream",
     "text": [
      "       age         workclass  fnlwgt     education  education-num  \\\n",
      "1826    22  Self-emp-not-inc  202920       HS-grad              9   \n",
      "2469    39  Self-emp-not-inc  237532       HS-grad              9   \n",
      "3260    34           Private  223212     Bachelors             13   \n",
      "4303    37           Private  191342       1st-4th              2   \n",
      "4785    25           Private  228608  Some-college             10   \n",
      "7980    34       Federal-gov   67083     Bachelors             13   \n",
      "8014    40           Private  173858       7th-8th              4   \n",
      "10188   28         Local-gov  336543    Assoc-acdm             12   \n",
      "11134   32           Private  112137     Preschool              1   \n",
      "11637   51           Private   63685       HS-grad              9   \n",
      "15644   35           Private  320451       Masters             14   \n",
      "16068   28           Private  149769       HS-grad              9   \n",
      "17382   27           Private  292472  Some-college             10   \n",
      "18075   65           Private  255386       HS-grad              9   \n",
      "19609   32           Private   27882  Some-college             10   \n",
      "19964   30           Private  328242     Bachelors             13   \n",
      "20780   27           Private  298635       Masters             14   \n",
      "21503   35           Private   93034       HS-grad              9   \n",
      "21851   18                 ?  261276  Some-college             10   \n",
      "22669   36           Private  116138       HS-grad              9   \n",
      "27329   29           Private  162551       Masters             14   \n",
      "28895   33           Private  405913  Some-college             10   \n",
      "30975   40           Private  320451     Doctorate             16   \n",
      "\n",
      "           marital-status         occupation    relationship  \\\n",
      "1826        Never-married     Prof-specialty       Unmarried   \n",
      "2469   Married-civ-spouse              Sales            Wife   \n",
      "3260   Married-civ-spouse     Prof-specialty         Husband   \n",
      "4303   Married-civ-spouse       Craft-repair         Husband   \n",
      "4785        Never-married       Craft-repair  Other-relative   \n",
      "7980        Never-married    Exec-managerial       Unmarried   \n",
      "8014   Married-civ-spouse      Other-service         Husband   \n",
      "10188  Married-civ-spouse    Protective-serv         Husband   \n",
      "11134  Married-civ-spouse  Machine-op-inspct            Wife   \n",
      "11637  Married-civ-spouse              Sales         Husband   \n",
      "15644  Married-civ-spouse    Exec-managerial         Husband   \n",
      "16068       Never-married  Machine-op-inspct   Not-in-family   \n",
      "17382       Never-married       Craft-repair   Not-in-family   \n",
      "18075       Never-married       Craft-repair  Other-relative   \n",
      "19609       Never-married  Machine-op-inspct  Other-relative   \n",
      "19964  Married-civ-spouse    Exec-managerial         Husband   \n",
      "20780  Married-civ-spouse     Prof-specialty         Husband   \n",
      "21503       Never-married  Machine-op-inspct   Not-in-family   \n",
      "21851       Never-married                  ?       Own-child   \n",
      "22669  Married-civ-spouse     Prof-specialty         Husband   \n",
      "27329  Married-civ-spouse     Prof-specialty            Wife   \n",
      "28895  Married-civ-spouse     Prof-specialty         Husband   \n",
      "30975  Married-civ-spouse     Prof-specialty         Husband   \n",
      "\n",
      "                     race     sex  capital-gain  capital-loss  hours-per-week  \\\n",
      "1826                White  Female         99999             0              40   \n",
      "2469                Black  Female             0             0              54   \n",
      "3260                White    Male             0          1848              40   \n",
      "4303   Asian-Pac-Islander    Male             0             0              40   \n",
      "4785   Asian-Pac-Islander  Female             0             0              40   \n",
      "7980   Asian-Pac-Islander    Male          1471             0              40   \n",
      "8014   Asian-Pac-Islander    Male             0             0              42   \n",
      "10188  Asian-Pac-Islander    Male             0             0              40   \n",
      "11134  Asian-Pac-Islander  Female          4508             0              40   \n",
      "11637  Asian-Pac-Islander    Male             0             0              50   \n",
      "15644  Asian-Pac-Islander    Male             0             0              65   \n",
      "16068  Asian-Pac-Islander    Male             0             0              40   \n",
      "17382  Asian-Pac-Islander    Male             0          1876              45   \n",
      "18075  Asian-Pac-Islander    Male             0             0              40   \n",
      "19609               White  Female             0          2205              40   \n",
      "19964  Asian-Pac-Islander    Male             0             0              40   \n",
      "20780  Asian-Pac-Islander    Male             0             0              40   \n",
      "21503  Asian-Pac-Islander    Male             0             0              40   \n",
      "21851               Black  Female             0          1602              40   \n",
      "22669  Asian-Pac-Islander    Male             0             0              40   \n",
      "27329  Asian-Pac-Islander  Female             0             0              40   \n",
      "28895               White    Male             0             0              40   \n",
      "30975  Asian-Pac-Islander    Male             0          1977              45   \n",
      "\n",
      "           native-country salary age_group  \n",
      "1826   Dominican-Republic   >50K     young  \n",
      "2469   Dominican-Republic   >50K     adult  \n",
      "3260                 Peru   >50K     young  \n",
      "4303             Cambodia  <=50K     adult  \n",
      "4785             Cambodia  <=50K     young  \n",
      "7980             Cambodia  <=50K     young  \n",
      "8014             Cambodia  <=50K     adult  \n",
      "10188                Hong   >50K     young  \n",
      "11134            Cambodia  <=50K     young  \n",
      "11637            Cambodia  <=50K     adult  \n",
      "15644                Hong   >50K     adult  \n",
      "16068            Cambodia  <=50K     young  \n",
      "17382            Cambodia  <=50K     young  \n",
      "18075            Cambodia  <=50K     adult  \n",
      "19609  Holand-Netherlands  <=50K     young  \n",
      "19964                Hong   >50K     young  \n",
      "20780                Hong   >50K     young  \n",
      "21503            Cambodia  <=50K     adult  \n",
      "21851            Cambodia  <=50K     young  \n",
      "22669            Cambodia  <=50K     adult  \n",
      "27329                Hong   >50K     young  \n",
      "28895                Peru   >50K     young  \n",
      "30975                Hong   >50K     adult  \n"
     ]
    }
   ],
   "execution_count": 25
  }
 ],
 "metadata": {
  "anaconda-cloud": {},
  "kernelspec": {
   "display_name": "Python 3 (ipykernel)",
   "language": "python",
   "name": "python3"
  },
  "language_info": {
   "codemirror_mode": {
    "name": "ipython",
    "version": 3
   },
   "file_extension": ".py",
   "mimetype": "text/x-python",
   "name": "python",
   "nbconvert_exporter": "python",
   "pygments_lexer": "ipython3",
   "version": "3.8.10"
  }
 },
 "nbformat": 4,
 "nbformat_minor": 1
}
