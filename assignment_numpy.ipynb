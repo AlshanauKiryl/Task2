{
 "cells": [
  {
   "cell_type": "markdown",
   "id": "d3df79dd",
   "metadata": {},
   "source": [
    "## Упражнения по библиотеке Numpy"
   ]
  },
  {
   "cell_type": "code",
   "id": "76b9c43b",
   "metadata": {
    "ExecuteTime": {
     "end_time": "2025-09-03T13:21:14.319802Z",
     "start_time": "2025-09-03T13:21:14.217212Z"
    }
   },
   "source": [
    "import numpy as np\n",
    "import numpy.random as rand\n",
    "import math"
   ],
   "outputs": [],
   "execution_count": 1
  },
  {
   "cell_type": "markdown",
   "id": "03727b7c",
   "metadata": {},
   "source": [
    "**1.** Дан случайный массив, поменять знак у элементов, значения которых между 3 и 8"
   ]
  },
  {
   "cell_type": "code",
   "id": "b89a7523",
   "metadata": {
    "ExecuteTime": {
     "end_time": "2025-09-03T13:21:14.334450Z",
     "start_time": "2025-09-03T13:21:14.327939Z"
    }
   },
   "source": [
    "arr=rand.randint(-10,10, rand.randint(5,15))\n",
    "\n",
    "mask=(arr>3) & (arr<8)\n",
    "arr[mask]=-arr[mask]\n",
    "print(arr)"
   ],
   "outputs": [
    {
     "name": "stdout",
     "output_type": "stream",
     "text": [
      "[ -9  -5 -10  -2  -8]\n"
     ]
    }
   ],
   "execution_count": 2
  },
  {
   "cell_type": "markdown",
   "id": "5fa4abda",
   "metadata": {},
   "source": [
    "**2.** Заменить максимальный элемент случайного массива на 0"
   ]
  },
  {
   "cell_type": "code",
   "id": "f2788a6e",
   "metadata": {
    "ExecuteTime": {
     "end_time": "2025-09-03T13:21:14.361739Z",
     "start_time": "2025-09-03T13:21:14.355560Z"
    }
   },
   "source": [
    "print(arr)\n",
    "arr[arr.argmax()]=0\n",
    "print(arr)"
   ],
   "outputs": [
    {
     "name": "stdout",
     "output_type": "stream",
     "text": [
      "[ -9  -5 -10  -2  -8]\n",
      "[ -9  -5 -10   0  -8]\n"
     ]
    }
   ],
   "execution_count": 3
  },
  {
   "cell_type": "markdown",
   "id": "3cac656b",
   "metadata": {},
   "source": [
    "**3.** Построить прямое произведение массивов (все комбинации с каждым элементом). На вход подается двумерный массив"
   ]
  },
  {
   "cell_type": "code",
   "id": "3396b764",
   "metadata": {
    "ExecuteTime": {
     "end_time": "2025-09-03T13:21:14.392595Z",
     "start_time": "2025-09-03T13:21:14.386395Z"
    }
   },
   "source": [
    "#arr2 = rand.randint(-10,10,(rand.randint(2,10),rand.randint(2,10)))\n",
    "arr2 = np.array([[  1,   2,  -5],\n",
    "                 [ -7, -10,   9],\n",
    "                 [  4,   6,  -5],\n",
    "                 [  6,  -7,   7],\n",
    "                 [ -5,  -3,   7]])\n",
    "\n",
    "arr2 = [np.asarray(a) for a in arr2]\n",
    "shape = map(len, arr2)\n",
    "\n",
    "ix = np.indices(shape, dtype=int)\n",
    "ix = ix.reshape(len(arr2), -1).T\n",
    "\n",
    "for n, arr in enumerate(arr2):\n",
    "    ix[:, n] = arr2[n][ix[:, n]]\n",
    "print(ix)\n"
   ],
   "outputs": [
    {
     "name": "stdout",
     "output_type": "stream",
     "text": [
      "[[ 1 -7  4  6 -5]\n",
      " [ 1 -7  4  6 -3]\n",
      " [ 1 -7  4  6  7]\n",
      " ...\n",
      " [-5  9 -5  7 -5]\n",
      " [-5  9 -5  7 -3]\n",
      " [-5  9 -5  7  7]]\n"
     ]
    }
   ],
   "execution_count": 4
  },
  {
   "cell_type": "markdown",
   "id": "674c9354",
   "metadata": {},
   "source": [
    "**4.** Даны 2 массива A (8x3) и B (2x2). Найти строки в A, которые содержат элементы из каждой строки в B, независимо от порядка элементов в B"
   ]
  },
  {
   "cell_type": "code",
   "id": "cb664782",
   "metadata": {
    "ExecuteTime": {
     "end_time": "2025-09-03T13:21:14.419806Z",
     "start_time": "2025-09-03T13:21:14.412969Z"
    }
   },
   "source": [
    "A = rand.randint(-10,10,(8,3))\n",
    "B = rand.randint(-10,10,(2,2))\n",
    "\n",
    "A = np.array([[2, 3, 5, 6],\n",
    "              [4, 1, 5, 6],\n",
    "              [6, 8, 3, 1],\n",
    "              [2, 3, 1, 1],\n",
    "              [5, 6, 4, 1],\n",
    "              [6, 3, 5, 2],\n",
    "              [3, 1, 2, 1],\n",
    "              [6, 4, 5, 1]])\n",
    "\n",
    "B = np.array([[2, 3],\n",
    "              [5, 6]])\n",
    "\n",
    "mask1 = np.any(np.isin(A, B[0]), axis=1)\n",
    "mask2 = np.any(np.isin(A, B[1]), axis=1)\n",
    "\n",
    "res = A[mask1 & mask2]\n",
    "print(res)"
   ],
   "outputs": [
    {
     "name": "stdout",
     "output_type": "stream",
     "text": [
      "[[2 3 5 6]\n",
      " [6 8 3 1]\n",
      " [6 3 5 2]]\n"
     ]
    }
   ],
   "execution_count": 5
  },
  {
   "cell_type": "markdown",
   "id": "fa46533b",
   "metadata": {},
   "source": [
    "**5.** Дана 10x3 матрица, найти строки из неравных значений (например строка [2,2,3] остается, строка [3,3,3] удаляется)"
   ]
  },
  {
   "cell_type": "code",
   "id": "fa545b23",
   "metadata": {
    "ExecuteTime": {
     "end_time": "2025-09-03T13:21:14.477830Z",
     "start_time": "2025-09-03T13:21:14.470883Z"
    }
   },
   "source": [
    "#arr5 = rand.randint(-10,10,(10,3))\n",
    "arr5 = np.array([[1,1,1],[1,2,3],[2,3,4]])\n",
    "mask = (arr5[:,0] != arr5[:,1]) | (arr5[:,0] != arr5[:,2])\n",
    "print(arr5[mask])"
   ],
   "outputs": [
    {
     "name": "stdout",
     "output_type": "stream",
     "text": [
      "[[1 2 3]\n",
      " [2 3 4]]\n"
     ]
    }
   ],
   "execution_count": 6
  },
  {
   "cell_type": "markdown",
   "id": "28f0d116",
   "metadata": {},
   "source": [
    "**6.** Дан двумерный массив. Удалить те строки, которые повторяются"
   ]
  },
  {
   "cell_type": "code",
   "id": "83d2c0b7",
   "metadata": {
    "ExecuteTime": {
     "end_time": "2025-09-03T13:21:14.522265Z",
     "start_time": "2025-09-03T13:21:14.508175Z"
    }
   },
   "source": [
    "arr6 = np.array([[1,2,3],[1,2,3],[2,3,4]])\n",
    "arr6 = np.unique(arr6,axis=0)\n",
    "print(arr6)"
   ],
   "outputs": [
    {
     "name": "stdout",
     "output_type": "stream",
     "text": [
      "[[1 2 3]\n",
      " [2 3 4]]\n"
     ]
    }
   ],
   "execution_count": 7
  },
  {
   "cell_type": "markdown",
   "id": "6daa9e37",
   "metadata": {},
   "source": [
    "______\n",
    "______"
   ]
  },
  {
   "cell_type": "markdown",
   "id": "cfbfcaff",
   "metadata": {},
   "source": [
    "Для каждой из следующих задач (1-5) нужно привести 2 реализации – одна без использования numpy (cчитайте, что там, где на входе или выходе должны быть numpy array, будут просто списки), а вторая полностью векторизованная с использованием numpy (без использования питоновских циклов/map/list comprehension).\n",
    "\n",
    "\n",
    "__Замечание 1.__ Можно считать, что все указанные объекты непустые (к примеру, в __задаче 1__ на диагонали матрицы есть ненулевые элементы).\n",
    "\n",
    "__Замечание 2.__ Для большинства задач решение занимает не больше 1-2 строк."
   ]
  },
  {
   "cell_type": "markdown",
   "id": "673cac7f",
   "metadata": {},
   "source": [
    "___"
   ]
  },
  {
   "cell_type": "markdown",
   "id": "ca6f585e",
   "metadata": {},
   "source": [
    "* __Задача 1__: Подсчитать произведение ненулевых элементов на диагонали прямоугольной матрицы.  \n",
    " Например, для X = np.array([[1, 0, 1], [2, 0, 2], [3, 0, 3], [4, 4, 4]]) ответ 3."
   ]
  },
  {
   "cell_type": "code",
   "id": "065862fc",
   "metadata": {
    "ExecuteTime": {
     "end_time": "2025-09-03T13:21:14.537649Z",
     "start_time": "2025-09-03T13:21:14.531919Z"
    }
   },
   "source": [
    "X  = rand.randint(-10,10,(rand.randint(2,10),rand.randint(2,10)))\n",
    "#X = np.array([[1, 0, 1], [2, 0, 2], [3, 0, 3], [4, 4, 4]])\n",
    "print(X)\n",
    "diag = np.diag(X)\n",
    "resNp = np.prod(diag[diag != 0]) if np.any(diag != 0) else 0\n",
    "print(resNp)\n",
    "\n",
    "resClr = 1\n",
    "for i in range (0,min(len(X),len(X[0]))):\n",
    "    if(X[i,i]!=0):\n",
    "        resClr*=X[i,i]\n",
    "print(resClr)"
   ],
   "outputs": [
    {
     "name": "stdout",
     "output_type": "stream",
     "text": [
      "[[  1  -6   1 -10  -2]\n",
      " [ -6  -5  -1   2   7]\n",
      " [  3   2   8   4 -10]\n",
      " [ -5   3 -10  -5 -10]]\n",
      "200\n",
      "200\n"
     ]
    }
   ],
   "execution_count": 8
  },
  {
   "cell_type": "markdown",
   "id": "9fc51d41",
   "metadata": {},
   "source": [
    "* __Задача 2__: Даны два вектора x и y. Проверить, задают ли они одно и то же мультимножество.  \n",
    "  Например, для x = np.array([1, 2, 2, 4]), y = np.array([4, 2, 1, 2]) ответ True."
   ]
  },
  {
   "cell_type": "code",
   "id": "a809e02f",
   "metadata": {
    "ExecuteTime": {
     "end_time": "2025-09-03T13:21:14.561993Z",
     "start_time": "2025-09-03T13:21:14.555394Z"
    }
   },
   "source": [
    "X = np.array([1,2,3,4,5])\n",
    "Y = np.array([5,4,3,2,1])\n",
    "resNp = np.array_equal(np.sort(X),np.sort(Y))\n",
    "\n",
    "countX = {}\n",
    "countY = {}\n",
    "\n",
    "for i in X:\n",
    "    countX[i] = countX.get(i,0)+1\n",
    "\n",
    "for i in Y:\n",
    "    countY[i] = countY.get(i,0)+1\n",
    "resClr = countX == countY\n",
    "\n",
    "print(resNp)\n",
    "print(resClr)\n"
   ],
   "outputs": [
    {
     "name": "stdout",
     "output_type": "stream",
     "text": [
      "True\n",
      "True\n"
     ]
    }
   ],
   "execution_count": 9
  },
  {
   "cell_type": "markdown",
   "id": "b9c185c7",
   "metadata": {},
   "source": [
    "* __Задача 3__: Найти максимальный элемент в векторе x среди элементов, перед которыми стоит ноль. \n",
    " Например, для x = np.array([6, 2, 0, 3, 0, 0, 5, 7, 0]) ответ 5."
   ]
  },
  {
   "cell_type": "code",
   "id": "b57df008",
   "metadata": {
    "ExecuteTime": {
     "end_time": "2025-09-03T13:21:14.587509Z",
     "start_time": "2025-09-03T13:21:14.581409Z"
    }
   },
   "source": [
    "X = np.array([6,2,0,3,0,0,5,7,0])\n",
    "\n",
    "zero_indices = np.where(X[:-1] == 0)[0]\n",
    "elements_after_zero = X[zero_indices + 1]\n",
    "resNp = np.max(elements_after_zero) if len(elements_after_zero) > 0 else None\n",
    "\n",
    "curr = 0\n",
    "max = 0\n",
    "for i in range(0,len(X)-1):\n",
    "    if X[i]==0 and X[i+1]>max:\n",
    "        max = X[i+1]\n",
    "resClr = max\n",
    "\n",
    "\n",
    "print(resNp)\n",
    "print(resClr)"
   ],
   "outputs": [
    {
     "name": "stdout",
     "output_type": "stream",
     "text": [
      "5\n",
      "5\n"
     ]
    }
   ],
   "execution_count": 10
  },
  {
   "cell_type": "markdown",
   "id": "480be4ce",
   "metadata": {},
   "source": [
    "* __Задача 4__: Реализовать кодирование длин серий (Run-length encoding). Для некоторого вектора x необходимо вернуть кортеж из двух векторов одинаковой длины. Первый содержит числа, а второй - сколько раз их нужно повторить.  \n",
    " Например, для x = np.array([2, 2, 2, 3, 3, 3, 5]) ответ (np.array([2, 3, 5]), np.array([3, 3, 1]))."
   ]
  },
  {
   "cell_type": "code",
   "id": "3c592124",
   "metadata": {
    "ExecuteTime": {
     "end_time": "2025-09-03T13:21:14.610138Z",
     "start_time": "2025-09-03T13:21:14.603314Z"
    }
   },
   "source": [
    "X = np.array([1,1,1,2,2,3,4,4,5,5,1,1])\n",
    "changes = np.r_[True, X[:-1]!=X[1:],True]\n",
    "indices = np.where(changes)[0]\n",
    "resNp = X[indices[:-1]], np.diff(indices)\n",
    "\n",
    "\n",
    "values = []\n",
    "counts = []\n",
    "curr_val = X[0]\n",
    "curr_count = 1\n",
    "\n",
    "for i in range(1,len(X)):\n",
    "    if X[i] == curr_val:\n",
    "        curr_count+=1\n",
    "    else:\n",
    "        values.append(int(curr_val))\n",
    "        counts.append(curr_count)\n",
    "        curr_val = X[i]\n",
    "        curr_count = 1\n",
    "\n",
    "values.append(int(curr_val))\n",
    "counts.append(curr_count)\n",
    "resClr = (values, counts)\n",
    "print(X)\n",
    "print(resNp)\n",
    "print(resClr)"
   ],
   "outputs": [
    {
     "name": "stdout",
     "output_type": "stream",
     "text": [
      "[1 1 1 2 2 3 4 4 5 5 1 1]\n",
      "(array([1, 2, 3, 4, 5, 1]), array([3, 2, 1, 2, 2, 2]))\n",
      "([1, 2, 3, 4, 5, 1], [3, 2, 1, 2, 2, 2])\n"
     ]
    }
   ],
   "execution_count": 11
  },
  {
   "cell_type": "markdown",
   "id": "077532ec",
   "metadata": {},
   "source": [
    "* __Задача 5__: Даны две выборки объектов - X и Y. Вычислить матрицу евклидовых расстояний между объектами. Сравните с функцией scipy.spatial.distance.cdist по скорости работы."
   ]
  },
  {
   "cell_type": "code",
   "id": "1e807797",
   "metadata": {
    "ExecuteTime": {
     "end_time": "2025-09-03T13:21:14.635386Z",
     "start_time": "2025-09-03T13:21:14.628206Z"
    }
   },
   "source": [
    "X = np.array([1,1,5,1,9,1])\n",
    "Y = np.array([12,1,8,1,4,1])\n",
    "x1 = X[:,np.newaxis]\n",
    "y1 = Y[:,np.newaxis]\n",
    "x2 = X[np.newaxis,:]\n",
    "y2 = Y[np.newaxis,:]\n",
    "resNp = np.sqrt((x1-x2)**2+(y1-y2)**2)\n",
    "\n",
    "resClr = []\n",
    "for i in range(len(X)):\n",
    "    row = []\n",
    "    for j in range(len(X)):\n",
    "        dx = X[i] - X[j]\n",
    "        dy = Y[i] - Y[j]\n",
    "        dist = math.sqrt(dx**2 + dy**2)\n",
    "        row.append(dist)\n",
    "    resClr.append(row)\n",
    "\n",
    "print(resNp)\n",
    "print(resClr)"
   ],
   "outputs": [
    {
     "name": "stdout",
     "output_type": "stream",
     "text": [
      "[[ 0.         11.          5.65685425 11.         11.3137085  11.        ]\n",
      " [11.          0.          8.06225775  0.          8.54400375  0.        ]\n",
      " [ 5.65685425  8.06225775  0.          8.06225775  5.65685425  8.06225775]\n",
      " [11.          0.          8.06225775  0.          8.54400375  0.        ]\n",
      " [11.3137085   8.54400375  5.65685425  8.54400375  0.          8.54400375]\n",
      " [11.          0.          8.06225775  0.          8.54400375  0.        ]]\n",
      "[[0.0, 11.0, 5.656854249492381, 11.0, 11.313708498984761, 11.0], [11.0, 0.0, 8.06225774829855, 0.0, 8.54400374531753, 0.0], [5.656854249492381, 8.06225774829855, 0.0, 8.06225774829855, 5.656854249492381, 8.06225774829855], [11.0, 0.0, 8.06225774829855, 0.0, 8.54400374531753, 0.0], [11.313708498984761, 8.54400374531753, 5.656854249492381, 8.54400374531753, 0.0, 8.54400374531753], [11.0, 0.0, 8.06225774829855, 0.0, 8.54400374531753, 0.0]]\n"
     ]
    }
   ],
   "execution_count": 12
  },
  {
   "cell_type": "markdown",
   "id": "973e8064",
   "metadata": {},
   "source": [
    "_______\n",
    "________"
   ]
  },
  {
   "cell_type": "markdown",
   "id": "1104acb7",
   "metadata": {},
   "source": [
    "* #### __Задача 6__: CrunchieMunchies __*__\n",
    "\n",
    "Вы работаете в отделе маркетинга пищевой компании MyCrunch, которая разрабатывает новый вид вкусных, полезных злаков под названием **CrunchieMunchies**.\n",
    "\n",
    "Вы хотите продемонстрировать потребителям, насколько полезны ваши хлопья по сравнению с другими ведущими брендами, поэтому вы собрали данные о питании нескольких разных конкурентов.\n",
    "\n",
    "Ваша задача - использовать вычисления Numpy для анализа этих данных и доказать, что ваши **СrunchieMunchies** - самый здоровый выбор для потребителей.\n"
   ]
  },
  {
   "cell_type": "code",
   "id": "10a77f8d",
   "metadata": {
    "ExecuteTime": {
     "end_time": "2025-09-03T13:21:14.654500Z",
     "start_time": "2025-09-03T13:21:14.651382Z"
    }
   },
   "source": [
    "import numpy as np"
   ],
   "outputs": [],
   "execution_count": 13
  },
  {
   "cell_type": "markdown",
   "id": "ab87cb03",
   "metadata": {},
   "source": [
    "1. Просмотрите файл cereal.csv. Этот файл содержит количества калорий для различных марок хлопьев. Загрузите данные из файла и сохраните их как calorie_stats."
   ]
  },
  {
   "cell_type": "code",
   "id": "9681ebf2",
   "metadata": {
    "ExecuteTime": {
     "end_time": "2025-09-03T13:21:14.680687Z",
     "start_time": "2025-09-03T13:21:14.672091Z"
    }
   },
   "source": [
    "calorie_stats = np.loadtxt(\"./data/cereal.csv\", delimiter=\",\")\n",
    "calorie_stats"
   ],
   "outputs": [
    {
     "data": {
      "text/plain": [
       "array([ 70., 120.,  70.,  50., 110., 110., 110., 130.,  90.,  90., 120.,\n",
       "       110., 120., 110., 110., 110., 100., 110., 110., 110., 100., 110.,\n",
       "       100., 100., 110., 110., 100., 120., 120., 110., 100., 110., 100.,\n",
       "       110., 120., 120., 110., 110., 110., 140., 110., 100., 110., 100.,\n",
       "       150., 150., 160., 100., 120., 140.,  90., 130., 120., 100.,  50.,\n",
       "        50., 100., 100., 120., 100.,  90., 110., 110.,  80.,  90.,  90.,\n",
       "       110., 110.,  90., 110., 140., 100., 110., 110., 100., 100., 110.])"
      ]
     },
     "execution_count": 14,
     "metadata": {},
     "output_type": "execute_result"
    }
   ],
   "execution_count": 14
  },
  {
   "cell_type": "markdown",
   "id": "139cfbd8",
   "metadata": {},
   "source": [
    "2. В одной порции CrunchieMunchies содержится 60 калорий. Насколько выше среднее количество калорий у ваших конкурентов?\n",
    "\n",
    "Сохраните ответ в переменной average_calories и распечатайте переменную в терминале"
   ]
  },
  {
   "cell_type": "code",
   "id": "7036d240",
   "metadata": {
    "ExecuteTime": {
     "end_time": "2025-09-03T13:21:14.700694Z",
     "start_time": "2025-09-03T13:21:14.695695Z"
    }
   },
   "source": [
    "average_calories = np.average(calorie_stats)-60\n",
    "print(\"average_calories - \",round(average_calories,4))"
   ],
   "outputs": [
    {
     "name": "stdout",
     "output_type": "stream",
     "text": [
      "average_calories -  46.8831\n"
     ]
    }
   ],
   "execution_count": 15
  },
  {
   "cell_type": "markdown",
   "id": "b2ddb4cd",
   "metadata": {},
   "source": [
    "3. Корректно ли среднее количество калорий отражает распределение набора данных? Давайте отсортируем данные и посмотрим.\n",
    "\n",
    "Отсортируйте данные и сохраните результат в переменной calorie_stats_sorted. Распечатайте отсортированную информацию"
   ]
  },
  {
   "cell_type": "code",
   "id": "46eeb4ed",
   "metadata": {
    "ExecuteTime": {
     "end_time": "2025-09-03T13:21:14.725077Z",
     "start_time": "2025-09-03T13:21:14.719689Z"
    }
   },
   "source": [
    "calorie_stats_sorted = np.sort(calorie_stats)\n",
    "print(calorie_stats_sorted)"
   ],
   "outputs": [
    {
     "name": "stdout",
     "output_type": "stream",
     "text": [
      "[ 50.  50.  50.  70.  70.  80.  90.  90.  90.  90.  90.  90.  90. 100.\n",
      " 100. 100. 100. 100. 100. 100. 100. 100. 100. 100. 100. 100. 100. 100.\n",
      " 100. 100. 110. 110. 110. 110. 110. 110. 110. 110. 110. 110. 110. 110.\n",
      " 110. 110. 110. 110. 110. 110. 110. 110. 110. 110. 110. 110. 110. 110.\n",
      " 110. 110. 110. 120. 120. 120. 120. 120. 120. 120. 120. 120. 120. 130.\n",
      " 130. 140. 140. 140. 150. 150. 160.]\n"
     ]
    }
   ],
   "execution_count": 16
  },
  {
   "cell_type": "markdown",
   "id": "4dc74116",
   "metadata": {},
   "source": [
    "4. Похоже, что большинство значений выше среднего. Давайте посмотрим, является ли медиана наиболее корректным показателем набора данных.\n",
    "\n",
    "Вычислите медиану набора данных и сохраните свой ответ в median_calories. Выведите медиану, чтобы вы могли видеть, как она сравнивается со средним значением."
   ]
  },
  {
   "cell_type": "code",
   "id": "b56627c3",
   "metadata": {
    "ExecuteTime": {
     "end_time": "2025-09-03T13:21:14.749714Z",
     "start_time": "2025-09-03T13:21:14.745081Z"
    }
   },
   "source": [
    "median_calories = np.median(calorie_stats)\n",
    "print(median_calories)"
   ],
   "outputs": [
    {
     "name": "stdout",
     "output_type": "stream",
     "text": [
      "110.0\n"
     ]
    }
   ],
   "execution_count": 17
  },
  {
   "cell_type": "markdown",
   "id": "a63ab72f",
   "metadata": {},
   "source": [
    "5. В то время как медиана показывает, что по крайней мере половина наших значений составляет более 100 калорий, было бы более впечатляюще показать, что значительная часть конкурентов имеет более высокое количество калорий, чем CrunchieMunchies.\n",
    "\n",
    "Рассчитайте различные процентили и распечатайте их, пока не найдете наименьший процентиль, превышающий 60 калорий. Сохраните это значение в переменной nth_percentile."
   ]
  },
  {
   "cell_type": "code",
   "id": "fe80ce03",
   "metadata": {
    "ExecuteTime": {
     "end_time": "2025-09-03T13:21:14.773877Z",
     "start_time": "2025-09-03T13:21:14.769720Z"
    }
   },
   "source": [
    "print(np.percentile(calorie_stats,3.289473685))\n",
    "nth_percentile = 3.289473685\n",
    "print(f\"percentile: {nth_percentile}\")"
   ],
   "outputs": [
    {
     "name": "stdout",
     "output_type": "stream",
     "text": [
      "60.000000012\n",
      "percentile: 3.289473685\n"
     ]
    }
   ],
   "execution_count": 18
  },
  {
   "cell_type": "markdown",
   "id": "a2a3c5aa",
   "metadata": {},
   "source": [
    "6. Хотя процентиль показывает нам, что у большинства конкурентов количество калорий намного выше, это неудобная концепция для использования в маркетинговых материалах.\n",
    "\n",
    "Вместо этого давайте подсчитаем процент хлопьев, в которых содержится более 60 калорий на порцию. Сохраните свой ответ в переменной more_calories и распечатайте его"
   ]
  },
  {
   "cell_type": "code",
   "id": "ade0f6ea",
   "metadata": {
    "ExecuteTime": {
     "end_time": "2025-09-03T13:21:14.800955Z",
     "start_time": "2025-09-03T13:21:14.796877Z"
    }
   },
   "source": [
    "more_calories = np.sum(calorie_stats > 60)/calorie_stats.shape[0]*100\n",
    "print(f'{round(more_calories,2)}%')"
   ],
   "outputs": [
    {
     "name": "stdout",
     "output_type": "stream",
     "text": [
      "96.1%\n"
     ]
    }
   ],
   "execution_count": 19
  },
  {
   "cell_type": "markdown",
   "id": "1735d65b",
   "metadata": {},
   "source": [
    "7. Это действительно высокий процент. Это будет очень полезно, когда мы будем продвигать CrunchieMunchies. Но один вопрос заключается в том, насколько велики различия в наборе данных? Можем ли мы сделать обобщение, что в большинстве злаков содержится около 100 калорий или разброс еще больше?\n",
    "\n",
    "Рассчитайте величину отклонения, найдя стандартное отклонение, Сохраните свой ответ в calorie_std и распечатайте на терминале. Как мы можем включить эту ценность в наш анализ?"
   ]
  },
  {
   "cell_type": "code",
   "id": "85c8df1f",
   "metadata": {
    "ExecuteTime": {
     "end_time": "2025-09-03T13:21:14.825927Z",
     "start_time": "2025-09-03T13:21:14.821951Z"
    }
   },
   "source": [
    "calorie_std = np.std(calorie_stats)\n",
    "print(calorie_std)"
   ],
   "outputs": [
    {
     "name": "stdout",
     "output_type": "stream",
     "text": [
      "19.35718533390827\n"
     ]
    }
   ],
   "execution_count": 20
  },
  {
   "cell_type": "markdown",
   "id": "037455c5",
   "metadata": {},
   "source": [
    "8. Напишите короткий абзац, в котором кратко изложите свои выводы и то, как, по вашему мнению, эти данные могут быть использованы в интересах Mycrunch при маркетинге CrunchieMunchies."
   ]
  },
  {
   "cell_type": "code",
   "id": "c260fee9",
   "metadata": {
    "ExecuteTime": {
     "end_time": "2025-09-03T13:21:14.847945Z",
     "start_time": "2025-09-03T13:21:14.844458Z"
    }
   },
   "source": "# your code",
   "outputs": [],
   "execution_count": 21
  }
 ],
 "metadata": {
  "kernelspec": {
   "display_name": "Python 3 (ipykernel)",
   "language": "python",
   "name": "python3"
  },
  "language_info": {
   "codemirror_mode": {
    "name": "ipython",
    "version": 3
   },
   "file_extension": ".py",
   "mimetype": "text/x-python",
   "name": "python",
   "nbconvert_exporter": "python",
   "pygments_lexer": "ipython3",
   "version": "3.8.10"
  }
 },
 "nbformat": 4,
 "nbformat_minor": 5
}
